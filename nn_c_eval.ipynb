{
 "cells": [
  {
   "cell_type": "code",
   "execution_count": 134,
   "outputs": [
    {
     "name": "stdout",
     "output_type": "stream",
     "text": [
      "30\n"
     ]
    }
   ],
   "source": [
    "import torch\n",
    "import os\n",
    "\n",
    "\n",
    "class Para:\n",
    "    feature_column_start_name = 'ep_ratio_ttm' # 'VOL5'\n",
    "    feature_column_end_name = 'BR' # 'AROON_DOWN'\n",
    "\n",
    "    feature_num = 22 # 8\n",
    "\n",
    "    device = torch.device(\"cuda:0\" if torch.cuda.is_available() else \"cpu\")\n",
    "\n",
    "    data_path = 'data/cs_space_1d_rate_20d_2022_pre'\n",
    "    model_path = 'models/model_c2_p[[0.0, 0.3], [0.7, 1.0]]_b32_lr0.001_d0.5_e500.pth'\n",
    "\n",
    "    classification_n = 2\n",
    "\n",
    "    month_num = len(os.listdir(data_path))\n",
    "\n",
    "para = Para()\n",
    "print(para.month_num)"
   ],
   "metadata": {
    "collapsed": false,
    "pycharm": {
     "name": "#%%\n"
    }
   }
  },
  {
   "cell_type": "code",
   "execution_count": 135,
   "outputs": [],
   "source": [
    "import numpy as np\n",
    "import torch\n",
    "from my_utils.model_class import MLP\n",
    "import pandas as pd\n",
    "\n",
    "def insert_predict(df: pd.DataFrame, model_path, out_nums: int, column_name: str) -> pd.DataFrame:\n",
    "\n",
    "    # 加载模型\n",
    "    model = MLP(in_nums=para.feature_num, out_nums=out_nums, drop_p=0.5)\n",
    "    model.load_state_dict(torch.load(model_path, map_location=para.device))\n",
    "    model = model.to(para.device)\n",
    "\n",
    "    # 运算\n",
    "    model.eval()\n",
    "    predict_tensor = model(torch.Tensor(df.loc[:, para.feature_column_start_name: para.feature_column_end_name].values).to(device=para.device))\n",
    "\n",
    "    # 插入 predict_tensor 列\n",
    "    df.insert(loc=0, column='predict_tensor_'+column_name, value=np.nan)\n",
    "    # 插入 predict_return_bin 列\n",
    "    df.insert(loc=0, column='predict_return_bin_'+column_name, value=np.nan)\n",
    "\n",
    "    df['predict_tensor'+'_'+column_name] = predict_tensor.to(device='cpu').detach().numpy().tolist()\n",
    "    df['predict_return_bin'+'_'+column_name] = predict_tensor.to(device='cpu').detach().numpy().argmax(1)\n",
    "\n",
    "    return df"
   ],
   "metadata": {
    "collapsed": false,
    "pycharm": {
     "name": "#%%\n"
    }
   }
  },
  {
   "cell_type": "code",
   "execution_count": 136,
   "outputs": [
    {
     "name": "stdout",
     "output_type": "stream",
     "text": [
      "\n",
      "i_csv: 0\n",
      "use time: 0.0009999275207519531\n",
      "date: 2022-01-04\n",
      "tensor([0.4500, 0.0000])\n",
      "0    1135\n",
      "1     756\n",
      "Name: predict_return_bin, dtype: int64\n",
      "\n",
      "i_csv: 1\n",
      "use time: 2.5266921520233154\n",
      "date: 2022-01-05\n",
      "tensor([0.3500, 0.0000])\n",
      "0    1026\n",
      "1     812\n",
      "Name: predict_return_bin, dtype: int64\n",
      "\n",
      "i_csv: 2\n",
      "use time: 4.3453898429870605\n",
      "date: 2022-01-06\n",
      "tensor([0.3000, 0.0000])\n",
      "0    1101\n",
      "1     717\n",
      "Name: predict_return_bin, dtype: int64\n",
      "\n",
      "i_csv: 3\n",
      "use time: 6.2530176639556885\n",
      "date: 2022-01-07\n",
      "tensor([0.4500, 0.0000])\n",
      "0    1074\n",
      "1     766\n",
      "Name: predict_return_bin, dtype: int64\n",
      "\n",
      "i_csv: 4\n",
      "use time: 8.266700029373169\n",
      "date: 2022-01-10\n",
      "tensor([0.4500, 0.0000])\n",
      "0    1085\n",
      "1     771\n",
      "Name: predict_return_bin, dtype: int64\n",
      "\n",
      "i_csv: 5\n",
      "use time: 10.328722476959229\n",
      "date: 2022-01-11\n",
      "tensor([0.6500, 0.0000])\n",
      "0    1060\n",
      "1     735\n",
      "Name: predict_return_bin, dtype: int64\n",
      "\n",
      "i_csv: 6\n",
      "use time: 12.309978485107422\n",
      "date: 2022-01-12\n",
      "tensor([0.6500, 0.0000])\n",
      "0    1108\n",
      "1     712\n",
      "Name: predict_return_bin, dtype: int64\n",
      "\n",
      "i_csv: 7\n",
      "use time: 14.113369941711426\n",
      "date: 2022-01-13\n",
      "tensor([0.6000, 0.0000])\n",
      "0    1125\n",
      "1     739\n",
      "Name: predict_return_bin, dtype: int64\n",
      "\n",
      "i_csv: 8\n",
      "use time: 16.355992555618286\n",
      "date: 2022-01-14\n",
      "tensor([0.6000, 0.0000])\n",
      "0    1231\n",
      "1     677\n",
      "Name: predict_return_bin, dtype: int64\n",
      "\n",
      "i_csv: 9\n",
      "use time: 19.00561833381653\n",
      "date: 2022-01-17\n",
      "tensor([0.7500, 0.0000])\n",
      "0    1177\n",
      "1     719\n",
      "Name: predict_return_bin, dtype: int64\n",
      "\n",
      "i_csv: 10\n",
      "use time: 20.86705493927002\n",
      "date: 2022-01-18\n",
      "tensor([0.3000, 0.0000])\n",
      "0    1127\n",
      "1     788\n",
      "Name: predict_return_bin, dtype: int64\n",
      "\n",
      "i_csv: 11\n",
      "use time: 22.70445489883423\n",
      "date: 2022-01-19\n",
      "tensor([0.4000, 0.0000])\n",
      "0    1139\n",
      "1     769\n",
      "Name: predict_return_bin, dtype: int64\n",
      "\n",
      "i_csv: 12\n",
      "use time: 24.706629276275635\n",
      "date: 2022-01-20\n",
      "tensor([0.2500, 0.0000])\n",
      "0    1120\n",
      "1     769\n",
      "Name: predict_return_bin, dtype: int64\n",
      "\n",
      "i_csv: 13\n",
      "use time: 26.81751847267151\n",
      "date: 2022-01-21\n",
      "tensor([0.4500, 0.0000])\n",
      "0    1097\n",
      "1     814\n",
      "Name: predict_return_bin, dtype: int64\n",
      "\n",
      "i_csv: 14\n",
      "use time: 28.824947834014893\n",
      "date: 2022-01-24\n",
      "tensor([0.2500, 0.0000])\n",
      "0    1113\n",
      "1     807\n",
      "Name: predict_return_bin, dtype: int64\n",
      "\n",
      "i_csv: 15\n",
      "use time: 30.926679134368896\n",
      "date: 2022-01-25\n",
      "tensor([0.1000, 0.0000])\n",
      "0    998\n",
      "1    879\n",
      "Name: predict_return_bin, dtype: int64\n",
      "\n",
      "i_csv: 16\n",
      "use time: 32.69229817390442\n",
      "date: 2022-01-26\n",
      "tensor([0.1500, 0.0000])\n",
      "0    961\n",
      "1    942\n",
      "Name: predict_return_bin, dtype: int64\n",
      "\n",
      "i_csv: 17\n",
      "use time: 34.465930223464966\n",
      "date: 2022-01-27\n",
      "tensor([0.0500, 0.0000])\n",
      "1    1014\n",
      "0     903\n",
      "Name: predict_return_bin, dtype: int64\n",
      "\n",
      "i_csv: 18\n",
      "use time: 36.34954881668091\n",
      "date: 2022-01-28\n",
      "tensor([0.2500, 0.0000])\n",
      "1    984\n",
      "0    902\n",
      "Name: predict_return_bin, dtype: int64\n",
      "\n",
      "i_csv: 19\n",
      "use time: 38.198659896850586\n",
      "date: 2022-02-07\n",
      "tensor([0.4000, 0.0000])\n",
      "1    1013\n",
      "0     834\n",
      "Name: predict_return_bin, dtype: int64\n",
      "\n",
      "i_csv: 20\n",
      "use time: 39.99451971054077\n",
      "date: 2022-02-08\n",
      "tensor([0.4000, 0.0000])\n",
      "1    970\n",
      "0    836\n",
      "Name: predict_return_bin, dtype: int64\n",
      "\n",
      "i_csv: 21\n",
      "use time: 42.32539248466492\n",
      "date: 2022-02-09\n",
      "tensor([0.3000, 0.0000])\n",
      "1    902\n",
      "0    792\n",
      "Name: predict_return_bin, dtype: int64\n",
      "\n",
      "i_csv: 22\n",
      "use time: 44.880006074905396\n",
      "date: 2022-02-10\n",
      "tensor([0.3500, 0.0000])\n",
      "1    920\n",
      "0    799\n",
      "Name: predict_return_bin, dtype: int64\n",
      "\n",
      "i_csv: 23\n",
      "use time: 47.909443616867065\n",
      "date: 2022-02-11\n",
      "tensor([0.4000, 0.0000])\n",
      "1    902\n",
      "0    812\n",
      "Name: predict_return_bin, dtype: int64\n",
      "\n",
      "i_csv: 24\n",
      "use time: 50.24232482910156\n",
      "date: 2022-02-14\n",
      "tensor([0.4500, 0.0000])\n",
      "1    856\n",
      "0    820\n",
      "Name: predict_return_bin, dtype: int64\n",
      "\n",
      "i_csv: 25\n",
      "use time: 52.82062101364136\n",
      "date: 2022-02-15\n",
      "tensor([0.4500, 0.0000])\n",
      "1    847\n",
      "0    811\n",
      "Name: predict_return_bin, dtype: int64\n",
      "\n",
      "i_csv: 26\n",
      "use time: 55.210201025009155\n",
      "date: 2022-02-16\n",
      "tensor([0.4500, 0.0000])\n",
      "1    855\n",
      "0    740\n",
      "Name: predict_return_bin, dtype: int64\n",
      "\n",
      "i_csv: 27\n",
      "use time: 57.10370492935181\n",
      "date: 2022-02-17\n",
      "tensor([0.4500, 0.0000])\n",
      "1    883\n",
      "0    672\n",
      "Name: predict_return_bin, dtype: int64\n",
      "\n",
      "i_csv: 28\n",
      "use time: 59.0115225315094\n",
      "date: 2022-02-18\n",
      "tensor([0.4000, 0.0000])\n",
      "1    897\n",
      "0    679\n",
      "Name: predict_return_bin, dtype: int64\n",
      "\n",
      "i_csv: 29\n",
      "use time: 60.927103996276855\n",
      "date: 2022-02-21\n",
      "tensor([0.3500, 0.0000])\n",
      "1    849\n",
      "0    751\n",
      "Name: predict_return_bin, dtype: int64\n"
     ]
    }
   ],
   "source": [
    "import torchmetrics\n",
    "import time\n",
    "import matplotlib.pyplot as plt\n",
    "import torch.nn.functional as F\n",
    "\n",
    "precision = torchmetrics.Precision(average='none', num_classes=para.classification_n)\n",
    "time_begin = time.time()\n",
    "\n",
    "plot_df = pd.DataFrame()\n",
    "\n",
    "# for i_csv in range(48, 59+1):\n",
    "# for i_csv in range(0, 2):\n",
    "for i_csv in range(para.month_num):\n",
    "    print()\n",
    "    print('i_csv: {}'.format(i_csv))\n",
    "    print('use time: {}'.format(time.time() - time_begin))\n",
    "\n",
    "    df = pd.read_csv(para.data_path +'/' + str(i_csv) + '.csv', index_col='order_book_id')\n",
    "\n",
    "    # 插入预测数据\n",
    "    df = insert_predict(df=df, model_path=para.model_path, out_nums=para.classification_n, column_name='2c')\n",
    "\n",
    "    # 综合多个预测数据\n",
    "    df.insert(loc=0, column='predict_return_bin', value=np.nan)\n",
    "    df.loc[df['predict_return_bin_2c'].isin([0,]), 'predict_return_bin'] = 0\n",
    "    df['predict_return_bin'].replace(to_replace=np.nan, value=1, inplace=True)\n",
    "    df['predict_return_bin'] = df['predict_return_bin'].astype('int64')\n",
    "\n",
    "    df.insert(loc=0, column='probability', value=np.nan)\n",
    "    for stock_id in df.index:\n",
    "        df.loc[stock_id, 'probability'] = F.softmax(torch.tensor(df.loc[stock_id, 'predict_tensor_2c']), dim=0).numpy()[0]\n",
    "        # df.loc[stock_id, 'probability'] = torch.tensor(df.loc[stock_id, 'predict_tensor_2c']).numpy()[0]\n",
    "\n",
    "    # 插入实际 return_bin 列\n",
    "    df.insert(loc=0, column='return_bin', value=np.nan)\n",
    "    df.loc[df['yield_rate'] > 0.0, 'return_bin'] = 0\n",
    "    df['return_bin'].replace(to_replace=np.nan, value=1, inplace=True)\n",
    "    df['return_bin'] = df['return_bin'].astype('int64')\n",
    "\n",
    "    # 计算精确率\n",
    "    df = df.sort_values(by='probability', ascending=False)\n",
    "\n",
    "    #\n",
    "    pred = torch.tensor(df['predict_return_bin'][0:20]).type(torch.LongTensor)\n",
    "    target = torch.tensor(df['return_bin'][0:20]).type(torch.LongTensor)\n",
    "    print('date: {}' .format(df['date'][0]))\n",
    "    print(precision(preds=pred, target=target))\n",
    "\n",
    "    print(df.loc[df['yield_rate']>0.0, 'predict_return_bin'].value_counts())\n",
    "\n",
    "    plot_df = pd.concat([plot_df, pd.DataFrame(data=[[df['date'][0] ,precision(preds=pred, target=target).detach().numpy()[0]]], columns=['date', 'precision'])])"
   ],
   "metadata": {
    "collapsed": false,
    "pycharm": {
     "name": "#%%\n"
    }
   }
  },
  {
   "cell_type": "code",
   "execution_count": 137,
   "outputs": [
    {
     "name": "stdout",
     "output_type": "stream",
     "text": [
      "\n",
      "average precision: tensor([0.3950, 0.0000])\n"
     ]
    }
   ],
   "source": [
    "print()\n",
    "print('average precision: {}' .format(precision.compute()))\n",
    "precision.reset()"
   ],
   "metadata": {
    "collapsed": false,
    "pycharm": {
     "name": "#%%\n"
    }
   }
  },
  {
   "cell_type": "code",
   "execution_count": 138,
   "outputs": [
    {
     "data": {
      "text/plain": "            precision\ndate                 \n2022-01-04       0.45\n2022-01-05       0.35\n2022-01-06       0.30\n2022-01-07       0.45\n2022-01-10       0.45\n2022-01-11       0.65\n2022-01-12       0.65\n2022-01-13       0.60\n2022-01-14       0.60\n2022-01-17       0.75\n2022-01-18       0.30\n2022-01-19       0.40\n2022-01-20       0.25\n2022-01-21       0.45\n2022-01-24       0.25\n2022-01-25       0.10\n2022-01-26       0.15\n2022-01-27       0.05\n2022-01-28       0.25\n2022-02-07       0.40\n2022-02-08       0.40\n2022-02-09       0.30\n2022-02-10       0.35\n2022-02-11       0.40\n2022-02-14       0.45\n2022-02-15       0.45\n2022-02-16       0.45\n2022-02-17       0.45\n2022-02-18       0.40\n2022-02-21       0.35",
      "text/html": "<div>\n<style scoped>\n    .dataframe tbody tr th:only-of-type {\n        vertical-align: middle;\n    }\n\n    .dataframe tbody tr th {\n        vertical-align: top;\n    }\n\n    .dataframe thead th {\n        text-align: right;\n    }\n</style>\n<table border=\"1\" class=\"dataframe\">\n  <thead>\n    <tr style=\"text-align: right;\">\n      <th></th>\n      <th>precision</th>\n    </tr>\n    <tr>\n      <th>date</th>\n      <th></th>\n    </tr>\n  </thead>\n  <tbody>\n    <tr>\n      <th>2022-01-04</th>\n      <td>0.45</td>\n    </tr>\n    <tr>\n      <th>2022-01-05</th>\n      <td>0.35</td>\n    </tr>\n    <tr>\n      <th>2022-01-06</th>\n      <td>0.30</td>\n    </tr>\n    <tr>\n      <th>2022-01-07</th>\n      <td>0.45</td>\n    </tr>\n    <tr>\n      <th>2022-01-10</th>\n      <td>0.45</td>\n    </tr>\n    <tr>\n      <th>2022-01-11</th>\n      <td>0.65</td>\n    </tr>\n    <tr>\n      <th>2022-01-12</th>\n      <td>0.65</td>\n    </tr>\n    <tr>\n      <th>2022-01-13</th>\n      <td>0.60</td>\n    </tr>\n    <tr>\n      <th>2022-01-14</th>\n      <td>0.60</td>\n    </tr>\n    <tr>\n      <th>2022-01-17</th>\n      <td>0.75</td>\n    </tr>\n    <tr>\n      <th>2022-01-18</th>\n      <td>0.30</td>\n    </tr>\n    <tr>\n      <th>2022-01-19</th>\n      <td>0.40</td>\n    </tr>\n    <tr>\n      <th>2022-01-20</th>\n      <td>0.25</td>\n    </tr>\n    <tr>\n      <th>2022-01-21</th>\n      <td>0.45</td>\n    </tr>\n    <tr>\n      <th>2022-01-24</th>\n      <td>0.25</td>\n    </tr>\n    <tr>\n      <th>2022-01-25</th>\n      <td>0.10</td>\n    </tr>\n    <tr>\n      <th>2022-01-26</th>\n      <td>0.15</td>\n    </tr>\n    <tr>\n      <th>2022-01-27</th>\n      <td>0.05</td>\n    </tr>\n    <tr>\n      <th>2022-01-28</th>\n      <td>0.25</td>\n    </tr>\n    <tr>\n      <th>2022-02-07</th>\n      <td>0.40</td>\n    </tr>\n    <tr>\n      <th>2022-02-08</th>\n      <td>0.40</td>\n    </tr>\n    <tr>\n      <th>2022-02-09</th>\n      <td>0.30</td>\n    </tr>\n    <tr>\n      <th>2022-02-10</th>\n      <td>0.35</td>\n    </tr>\n    <tr>\n      <th>2022-02-11</th>\n      <td>0.40</td>\n    </tr>\n    <tr>\n      <th>2022-02-14</th>\n      <td>0.45</td>\n    </tr>\n    <tr>\n      <th>2022-02-15</th>\n      <td>0.45</td>\n    </tr>\n    <tr>\n      <th>2022-02-16</th>\n      <td>0.45</td>\n    </tr>\n    <tr>\n      <th>2022-02-17</th>\n      <td>0.45</td>\n    </tr>\n    <tr>\n      <th>2022-02-18</th>\n      <td>0.40</td>\n    </tr>\n    <tr>\n      <th>2022-02-21</th>\n      <td>0.35</td>\n    </tr>\n  </tbody>\n</table>\n</div>"
     },
     "execution_count": 138,
     "metadata": {},
     "output_type": "execute_result"
    }
   ],
   "source": [
    "plot_df['date'] = pd.to_datetime(plot_df['date'])\n",
    "plot_df.set_index('date', inplace=True)\n",
    "plot_df"
   ],
   "metadata": {
    "collapsed": false,
    "pycharm": {
     "name": "#%%\n"
    }
   }
  },
  {
   "cell_type": "code",
   "execution_count": 139,
   "outputs": [
    {
     "data": {
      "text/plain": "<AxesSubplot:xlabel='date'>"
     },
     "execution_count": 139,
     "metadata": {},
     "output_type": "execute_result"
    },
    {
     "data": {
      "text/plain": "<Figure size 432x288 with 1 Axes>",
      "image/png": "[encoded data removed]"
     },
     "metadata": {
      "needs_background": "light"
     },
     "output_type": "display_data"
    }
   ],
   "source": [
    "plot_df.rolling(5).mean().plot(grid=True)"
   ],
   "metadata": {
    "collapsed": false,
    "pycharm": {
     "name": "#%%\n"
    }
   }
  },
  {
   "cell_type": "code",
   "execution_count": 140,
   "outputs": [
    {
     "name": "stderr",
     "output_type": "stream",
     "text": [
      "c:\\users\\millet\\miniconda3\\envs\\torch1.8-gpu\\lib\\site-packages\\rqdatac\\client.py:197: UserWarning: rqdatac is already inited. Settings will be changed.\n",
      "  warnings.warn(\"rqdatac is already inited. Settings will be changed.\", stacklevel=0)\n"
     ]
    },
    {
     "ename": "PermissionDenied",
     "evalue": "this license is only allowed to access through the education network",
     "output_type": "error",
     "traceback": [
      "\u001B[1;31m---------------------------------------------------------------------------\u001B[0m",
      "\u001B[1;31mPermissionDenied\u001B[0m                          Traceback (most recent call last)",
      "\u001B[1;32m~\\AppData\\Local\\Temp/ipykernel_11740/2328203900.py\u001B[0m in \u001B[0;36m<module>\u001B[1;34m\u001B[0m\n\u001B[0;32m      3\u001B[0m \u001B[1;33m\u001B[0m\u001B[0m\n\u001B[0;32m      4\u001B[0m \u001B[0mrqdatac\u001B[0m\u001B[1;33m.\u001B[0m\u001B[0minit\u001B[0m\u001B[1;33m(\u001B[0m\u001B[1;33m)\u001B[0m\u001B[1;33m\u001B[0m\u001B[1;33m\u001B[0m\u001B[0m\n\u001B[1;32m----> 5\u001B[1;33m \u001B[0mhs300_df\u001B[0m \u001B[1;33m=\u001B[0m \u001B[0mget_price\u001B[0m\u001B[1;33m(\u001B[0m\u001B[0morder_book_ids\u001B[0m\u001B[1;33m=\u001B[0m\u001B[1;34m'000300.XSHG'\u001B[0m\u001B[1;33m,\u001B[0m \u001B[0mstart_date\u001B[0m\u001B[1;33m=\u001B[0m\u001B[1;34m'2022-01-01'\u001B[0m\u001B[1;33m,\u001B[0m \u001B[0mend_date\u001B[0m\u001B[1;33m=\u001B[0m\u001B[1;34m'2022-03-22'\u001B[0m\u001B[1;33m,\u001B[0m \u001B[0mfields\u001B[0m\u001B[1;33m=\u001B[0m\u001B[1;34m'close'\u001B[0m\u001B[1;33m)\u001B[0m\u001B[1;33m\u001B[0m\u001B[1;33m\u001B[0m\u001B[0m\n\u001B[0m",
      "\u001B[1;32mc:\\users\\millet\\miniconda3\\envs\\torch1.8-gpu\\lib\\site-packages\\rqdatac\\decorators.py\u001B[0m in \u001B[0;36mwrap\u001B[1;34m(*args, **kwargs)\u001B[0m\n\u001B[0;32m    148\u001B[0m                 \u001B[1;32mif\u001B[0m \u001B[0mitem\u001B[0m \u001B[1;33m!=\u001B[0m \u001B[0mvalue\u001B[0m\u001B[1;33m:\u001B[0m\u001B[1;33m\u001B[0m\u001B[1;33m\u001B[0m\u001B[0m\n\u001B[0;32m    149\u001B[0m                     \u001B[1;32mraise\u001B[0m \u001B[0mValueError\u001B[0m\u001B[1;33m(\u001B[0m\u001B[1;34m\"'{}': except '{}', got '{}'\"\u001B[0m\u001B[1;33m.\u001B[0m\u001B[0mformat\u001B[0m\u001B[1;33m(\u001B[0m\u001B[0mname\u001B[0m\u001B[1;33m,\u001B[0m \u001B[0mvalue\u001B[0m\u001B[1;33m,\u001B[0m \u001B[0mitem\u001B[0m\u001B[1;33m)\u001B[0m\u001B[1;33m)\u001B[0m\u001B[1;33m\u001B[0m\u001B[1;33m\u001B[0m\u001B[0m\n\u001B[1;32m--> 150\u001B[1;33m         \u001B[1;32mreturn\u001B[0m \u001B[0mfunc\u001B[0m\u001B[1;33m(\u001B[0m\u001B[1;33m*\u001B[0m\u001B[0margs\u001B[0m\u001B[1;33m,\u001B[0m \u001B[1;33m**\u001B[0m\u001B[0mkwargs\u001B[0m\u001B[1;33m)\u001B[0m\u001B[1;33m\u001B[0m\u001B[1;33m\u001B[0m\u001B[0m\n\u001B[0m\u001B[0;32m    151\u001B[0m \u001B[1;33m\u001B[0m\u001B[0m\n\u001B[0;32m    152\u001B[0m     \u001B[1;32mreturn\u001B[0m \u001B[0mwrap\u001B[0m\u001B[1;33m\u001B[0m\u001B[1;33m\u001B[0m\u001B[0m\n",
      "\u001B[1;32mc:\\users\\millet\\miniconda3\\envs\\torch1.8-gpu\\lib\\site-packages\\rqdatac\\services\\get_price.py\u001B[0m in \u001B[0;36mget_price\u001B[1;34m(order_book_ids, start_date, end_date, frequency, fields, adjust_type, skip_suspended, expect_df, market, **kwargs)\u001B[0m\n\u001B[0;32m    111\u001B[0m     \u001B[1;32mfrom\u001B[0m \u001B[0mrqdatac\u001B[0m\u001B[1;33m.\u001B[0m\u001B[0mservices\u001B[0m\u001B[1;33m.\u001B[0m\u001B[0mdetail\u001B[0m\u001B[1;33m.\u001B[0m\u001B[0mget_price_df\u001B[0m \u001B[1;32mimport\u001B[0m \u001B[0mget_price_df\u001B[0m\u001B[1;33m,\u001B[0m \u001B[0mget_week_df\u001B[0m\u001B[1;33m\u001B[0m\u001B[1;33m\u001B[0m\u001B[0m\n\u001B[0;32m    112\u001B[0m     \u001B[1;32mif\u001B[0m \u001B[0mfrequency\u001B[0m \u001B[1;33m!=\u001B[0m \u001B[1;34m'w'\u001B[0m\u001B[1;33m:\u001B[0m\u001B[1;33m\u001B[0m\u001B[1;33m\u001B[0m\u001B[0m\n\u001B[1;32m--> 113\u001B[1;33m         df = get_price_df(\n\u001B[0m\u001B[0;32m    114\u001B[0m             \u001B[0morder_book_ids\u001B[0m\u001B[1;33m,\u001B[0m \u001B[0mstart_date\u001B[0m\u001B[1;33m,\u001B[0m \u001B[0mend_date\u001B[0m\u001B[1;33m,\u001B[0m \u001B[0mfrequency\u001B[0m\u001B[1;33m,\u001B[0m \u001B[0mduration\u001B[0m\u001B[1;33m,\u001B[0m \u001B[0mfields\u001B[0m\u001B[1;33m,\u001B[0m \u001B[0madjust_type\u001B[0m\u001B[1;33m,\u001B[0m \u001B[0mskip_suspended\u001B[0m\u001B[1;33m,\u001B[0m\u001B[1;33m\u001B[0m\u001B[1;33m\u001B[0m\u001B[0m\n\u001B[0;32m    115\u001B[0m             \u001B[0mstocks\u001B[0m\u001B[1;33m,\u001B[0m \u001B[0mfunds\u001B[0m\u001B[1;33m,\u001B[0m \u001B[0mindexes\u001B[0m\u001B[1;33m,\u001B[0m \u001B[0mfutures\u001B[0m\u001B[1;33m,\u001B[0m \u001B[0mfutures888\u001B[0m\u001B[1;33m,\u001B[0m \u001B[0mspots\u001B[0m\u001B[1;33m,\u001B[0m \u001B[0moptions\u001B[0m\u001B[1;33m,\u001B[0m \u001B[0mconvertibles\u001B[0m\u001B[1;33m,\u001B[0m \u001B[0mrepos\u001B[0m\u001B[1;33m,\u001B[0m \u001B[0mmarket\u001B[0m\u001B[1;33m\u001B[0m\u001B[1;33m\u001B[0m\u001B[0m\n",
      "\u001B[1;32mc:\\users\\millet\\miniconda3\\envs\\torch1.8-gpu\\lib\\site-packages\\rqdatac\\services\\detail\\get_price_df.py\u001B[0m in \u001B[0;36mget_price_df\u001B[1;34m(order_book_ids, start_date, end_date, frequency, duration, fields, adjust_type, skip_suspended, stocks, funds, indexes, futures, futures888, spots, options, convertibles, repos, market)\u001B[0m\n\u001B[0;32m     89\u001B[0m     \u001B[1;32mif\u001B[0m \u001B[0mfrequency\u001B[0m \u001B[1;33m==\u001B[0m \u001B[1;34m\"d\"\u001B[0m\u001B[1;33m:\u001B[0m\u001B[1;33m\u001B[0m\u001B[1;33m\u001B[0m\u001B[0m\n\u001B[0;32m     90\u001B[0m         \u001B[0mfields\u001B[0m\u001B[1;33m,\u001B[0m \u001B[0mhas_dominant_id\u001B[0m \u001B[1;33m=\u001B[0m \u001B[0m_ensure_fields\u001B[0m\u001B[1;33m(\u001B[0m\u001B[0mfields\u001B[0m\u001B[1;33m,\u001B[0m \u001B[0mDAYBAR_FIELDS\u001B[0m\u001B[1;33m,\u001B[0m \u001B[0mstocks\u001B[0m\u001B[1;33m,\u001B[0m \u001B[0mfunds\u001B[0m\u001B[1;33m,\u001B[0m \u001B[0mfutures\u001B[0m\u001B[1;33m,\u001B[0m \u001B[0mfutures888\u001B[0m\u001B[1;33m,\u001B[0m \u001B[0mspots\u001B[0m\u001B[1;33m,\u001B[0m \u001B[0moptions\u001B[0m\u001B[1;33m,\u001B[0m \u001B[0mconvertibles\u001B[0m\u001B[1;33m,\u001B[0m \u001B[0mindexes\u001B[0m\u001B[1;33m,\u001B[0m \u001B[0mrepos\u001B[0m\u001B[1;33m)\u001B[0m\u001B[1;33m\u001B[0m\u001B[1;33m\u001B[0m\u001B[0m\n\u001B[1;32m---> 91\u001B[1;33m         \u001B[0mpf\u001B[0m\u001B[1;33m,\u001B[0m \u001B[0mobid_slice_map\u001B[0m \u001B[1;33m=\u001B[0m \u001B[0mget_daybar\u001B[0m\u001B[1;33m(\u001B[0m\u001B[0morder_book_ids\u001B[0m\u001B[1;33m,\u001B[0m \u001B[0mstart_date\u001B[0m\u001B[1;33m,\u001B[0m \u001B[0mend_date\u001B[0m\u001B[1;33m,\u001B[0m \u001B[0mfields\u001B[0m\u001B[1;33m,\u001B[0m \u001B[0mduration\u001B[0m\u001B[1;33m,\u001B[0m \u001B[0mmarket\u001B[0m\u001B[1;33m)\u001B[0m\u001B[1;33m\u001B[0m\u001B[1;33m\u001B[0m\u001B[0m\n\u001B[0m\u001B[0;32m     92\u001B[0m         \u001B[1;32mif\u001B[0m \u001B[0mpf\u001B[0m \u001B[1;32mis\u001B[0m \u001B[1;32mNone\u001B[0m\u001B[1;33m:\u001B[0m\u001B[1;33m\u001B[0m\u001B[1;33m\u001B[0m\u001B[0m\n\u001B[0;32m     93\u001B[0m             \u001B[1;32mreturn\u001B[0m\u001B[1;33m\u001B[0m\u001B[1;33m\u001B[0m\u001B[0m\n",
      "\u001B[1;32mc:\\users\\millet\\miniconda3\\envs\\torch1.8-gpu\\lib\\site-packages\\rqdatac\\services\\detail\\get_price_df.py\u001B[0m in \u001B[0;36mget_daybar\u001B[1;34m(order_book_ids, start_date, end_date, fields, duration, market)\u001B[0m\n\u001B[0;32m    150\u001B[0m \u001B[1;33m\u001B[0m\u001B[0m\n\u001B[0;32m    151\u001B[0m \u001B[1;32mdef\u001B[0m \u001B[0mget_daybar\u001B[0m\u001B[1;33m(\u001B[0m\u001B[0morder_book_ids\u001B[0m\u001B[1;33m,\u001B[0m \u001B[0mstart_date\u001B[0m\u001B[1;33m,\u001B[0m \u001B[0mend_date\u001B[0m\u001B[1;33m,\u001B[0m \u001B[0mfields\u001B[0m\u001B[1;33m,\u001B[0m \u001B[0mduration\u001B[0m\u001B[1;33m,\u001B[0m \u001B[0mmarket\u001B[0m\u001B[1;33m)\u001B[0m\u001B[1;33m:\u001B[0m\u001B[1;33m\u001B[0m\u001B[1;33m\u001B[0m\u001B[0m\n\u001B[1;32m--> 152\u001B[1;33m     data = get_client().execute(\n\u001B[0m\u001B[0;32m    153\u001B[0m         \u001B[1;34m\"get_daybar_v\"\u001B[0m\u001B[1;33m,\u001B[0m \u001B[0morder_book_ids\u001B[0m\u001B[1;33m,\u001B[0m \u001B[0mstart_date\u001B[0m\u001B[1;33m,\u001B[0m \u001B[0mend_date\u001B[0m\u001B[1;33m,\u001B[0m \u001B[0mfields\u001B[0m\u001B[1;33m,\u001B[0m \u001B[0mduration\u001B[0m\u001B[1;33m,\u001B[0m \u001B[0mmarket\u001B[0m\u001B[1;33m\u001B[0m\u001B[1;33m\u001B[0m\u001B[0m\n\u001B[0;32m    154\u001B[0m     )\n",
      "\u001B[1;32mc:\\users\\millet\\miniconda3\\envs\\torch1.8-gpu\\lib\\site-packages\\rqdatac\\decorators.py\u001B[0m in \u001B[0;36mwrap\u001B[1;34m(*args, **kwargs)\u001B[0m\n\u001B[0;32m     65\u001B[0m             \u001B[1;32mwhile\u001B[0m \u001B[0mc\u001B[0m \u001B[1;33m>\u001B[0m \u001B[1;36m0\u001B[0m\u001B[1;33m:\u001B[0m\u001B[1;33m\u001B[0m\u001B[1;33m\u001B[0m\u001B[0m\n\u001B[0;32m     66\u001B[0m                 \u001B[1;32mtry\u001B[0m\u001B[1;33m:\u001B[0m\u001B[1;33m\u001B[0m\u001B[1;33m\u001B[0m\u001B[0m\n\u001B[1;32m---> 67\u001B[1;33m                     \u001B[1;32mreturn\u001B[0m \u001B[0mfunc\u001B[0m\u001B[1;33m(\u001B[0m\u001B[1;33m*\u001B[0m\u001B[0margs\u001B[0m\u001B[1;33m,\u001B[0m \u001B[1;33m**\u001B[0m\u001B[0mkwargs\u001B[0m\u001B[1;33m)\u001B[0m\u001B[1;33m\u001B[0m\u001B[1;33m\u001B[0m\u001B[0m\n\u001B[0m\u001B[0;32m     68\u001B[0m                 \u001B[1;32mexcept\u001B[0m \u001B[0msuppress_exceptions\u001B[0m \u001B[1;32mas\u001B[0m \u001B[0me\u001B[0m\u001B[1;33m:\u001B[0m\u001B[1;33m\u001B[0m\u001B[1;33m\u001B[0m\u001B[0m\n\u001B[0;32m     69\u001B[0m                     \u001B[0mc\u001B[0m \u001B[1;33m-=\u001B[0m \u001B[1;36m1\u001B[0m\u001B[1;33m\u001B[0m\u001B[1;33m\u001B[0m\u001B[0m\n",
      "\u001B[1;32mc:\\users\\millet\\miniconda3\\envs\\torch1.8-gpu\\lib\\site-packages\\rqdatac\\thread_local.py\u001B[0m in \u001B[0;36mexecute\u001B[1;34m(self, method, *args, **kwargs)\u001B[0m\n\u001B[0;32m     40\u001B[0m     \u001B[1;33m@\u001B[0m\u001B[0mretry\u001B[0m\u001B[1;33m(\u001B[0m\u001B[1;36m3\u001B[0m\u001B[1;33m,\u001B[0m \u001B[0msuppress_exceptions\u001B[0m\u001B[1;33m=\u001B[0m\u001B[1;33m(\u001B[0m\u001B[0mconnection_error\u001B[0m\u001B[1;33m,\u001B[0m \u001B[0mGatewayError\u001B[0m\u001B[1;33m,\u001B[0m \u001B[0mtimeout_error\u001B[0m\u001B[1;33m,\u001B[0m \u001B[0msocket\u001B[0m\u001B[1;33m.\u001B[0m\u001B[0mtimeout\u001B[0m\u001B[1;33m)\u001B[0m\u001B[1;33m)\u001B[0m\u001B[1;33m\u001B[0m\u001B[1;33m\u001B[0m\u001B[0m\n\u001B[0;32m     41\u001B[0m     \u001B[1;32mdef\u001B[0m \u001B[0mexecute\u001B[0m\u001B[1;33m(\u001B[0m\u001B[0mself\u001B[0m\u001B[1;33m,\u001B[0m \u001B[0mmethod\u001B[0m\u001B[1;33m,\u001B[0m \u001B[1;33m*\u001B[0m\u001B[0margs\u001B[0m\u001B[1;33m,\u001B[0m \u001B[1;33m**\u001B[0m\u001B[0mkwargs\u001B[0m\u001B[1;33m)\u001B[0m\u001B[1;33m:\u001B[0m\u001B[1;33m\u001B[0m\u001B[1;33m\u001B[0m\u001B[0m\n\u001B[1;32m---> 42\u001B[1;33m         \u001B[1;32mreturn\u001B[0m \u001B[0mself\u001B[0m\u001B[1;33m.\u001B[0m\u001B[0m_execute\u001B[0m\u001B[1;33m(\u001B[0m\u001B[0mself\u001B[0m\u001B[1;33m.\u001B[0m\u001B[0m_get_connection\u001B[0m\u001B[1;33m(\u001B[0m\u001B[1;33m)\u001B[0m\u001B[1;33m,\u001B[0m \u001B[0mmethod\u001B[0m\u001B[1;33m,\u001B[0m \u001B[0margs\u001B[0m\u001B[1;33m,\u001B[0m \u001B[0mkwargs\u001B[0m\u001B[1;33m)\u001B[0m\u001B[1;33m\u001B[0m\u001B[1;33m\u001B[0m\u001B[0m\n\u001B[0m\u001B[0;32m     43\u001B[0m \u001B[1;33m\u001B[0m\u001B[0m\n\u001B[0;32m     44\u001B[0m     \u001B[1;33m@\u001B[0m\u001B[0mretry\u001B[0m\u001B[1;33m(\u001B[0m\u001B[1;36m3\u001B[0m\u001B[1;33m,\u001B[0m \u001B[0msuppress_exceptions\u001B[0m\u001B[1;33m=\u001B[0m\u001B[1;33m(\u001B[0m\u001B[0mconnection_error\u001B[0m\u001B[1;33m,\u001B[0m \u001B[0mGatewayError\u001B[0m\u001B[1;33m)\u001B[0m\u001B[1;33m)\u001B[0m\u001B[1;33m\u001B[0m\u001B[1;33m\u001B[0m\u001B[0m\n",
      "\u001B[1;32mc:\\users\\millet\\miniconda3\\envs\\torch1.8-gpu\\lib\\site-packages\\rqdatac\\thread_local.py\u001B[0m in \u001B[0;36m_get_connection\u001B[1;34m(self)\u001B[0m\n\u001B[0;32m     26\u001B[0m         \u001B[0ms\u001B[0m \u001B[1;33m=\u001B[0m \u001B[0mConnection\u001B[0m\u001B[1;33m.\u001B[0m\u001B[0msock_factory\u001B[0m\u001B[1;33m(\u001B[0m\u001B[0mself\u001B[0m\u001B[1;33m.\u001B[0m\u001B[0m_addr\u001B[0m\u001B[1;33m,\u001B[0m \u001B[0mtimeout\u001B[0m\u001B[1;33m=\u001B[0m\u001B[0mself\u001B[0m\u001B[1;33m.\u001B[0m\u001B[0m_connect_timeout\u001B[0m\u001B[1;33m)\u001B[0m\u001B[1;33m\u001B[0m\u001B[1;33m\u001B[0m\u001B[0m\n\u001B[0;32m     27\u001B[0m         \u001B[0ms\u001B[0m\u001B[1;33m.\u001B[0m\u001B[0msettimeout\u001B[0m\u001B[1;33m(\u001B[0m\u001B[0mself\u001B[0m\u001B[1;33m.\u001B[0m\u001B[0m_timeout\u001B[0m\u001B[1;33m)\u001B[0m\u001B[1;33m\u001B[0m\u001B[1;33m\u001B[0m\u001B[0m\n\u001B[1;32m---> 28\u001B[1;33m         \u001B[0mself\u001B[0m\u001B[1;33m.\u001B[0m\u001B[0m_local\u001B[0m\u001B[1;33m.\u001B[0m\u001B[0mconnection\u001B[0m \u001B[1;33m=\u001B[0m \u001B[0mConnection\u001B[0m\u001B[1;33m(\u001B[0m\u001B[0ms\u001B[0m\u001B[1;33m,\u001B[0m \u001B[0mself\u001B[0m\u001B[1;33m.\u001B[0m\u001B[0m_auth\u001B[0m\u001B[1;33m)\u001B[0m\u001B[1;33m\u001B[0m\u001B[1;33m\u001B[0m\u001B[0m\n\u001B[0m\u001B[0;32m     29\u001B[0m         \u001B[1;32mreturn\u001B[0m \u001B[0mself\u001B[0m\u001B[1;33m.\u001B[0m\u001B[0m_local\u001B[0m\u001B[1;33m.\u001B[0m\u001B[0mconnection\u001B[0m\u001B[1;33m\u001B[0m\u001B[1;33m\u001B[0m\u001B[0m\n\u001B[0;32m     30\u001B[0m \u001B[1;33m\u001B[0m\u001B[0m\n",
      "\u001B[1;32mc:\\users\\millet\\miniconda3\\envs\\torch1.8-gpu\\lib\\site-packages\\rqdatac\\connection.py\u001B[0m in \u001B[0;36m__init__\u001B[1;34m(self, sock, auth)\u001B[0m\n\u001B[0;32m     52\u001B[0m         \u001B[0mself\u001B[0m\u001B[1;33m.\u001B[0m\u001B[0m_auth_info\u001B[0m \u001B[1;33m=\u001B[0m \u001B[0mauth\u001B[0m\u001B[1;33m.\u001B[0m\u001B[0mcopy\u001B[0m\u001B[1;33m(\u001B[0m\u001B[1;33m)\u001B[0m\u001B[1;33m\u001B[0m\u001B[1;33m\u001B[0m\u001B[0m\n\u001B[0;32m     53\u001B[0m         \u001B[0mself\u001B[0m\u001B[1;33m.\u001B[0m\u001B[0m_auth_info\u001B[0m\u001B[1;33m[\u001B[0m\u001B[1;34m\"node\"\u001B[0m\u001B[1;33m]\u001B[0m \u001B[1;33m=\u001B[0m \u001B[0mself\u001B[0m\u001B[1;33m.\u001B[0m\u001B[0m_socket\u001B[0m\u001B[1;33m.\u001B[0m\u001B[0mgetsockname\u001B[0m\u001B[1;33m(\u001B[0m\u001B[1;33m)\u001B[0m\u001B[1;33m[\u001B[0m\u001B[1;36m0\u001B[0m\u001B[1;33m]\u001B[0m\u001B[1;33m\u001B[0m\u001B[1;33m\u001B[0m\u001B[0m\n\u001B[1;32m---> 54\u001B[1;33m         \u001B[0mself\u001B[0m\u001B[1;33m.\u001B[0m\u001B[0m_do_auth\u001B[0m\u001B[1;33m(\u001B[0m\u001B[0mself\u001B[0m\u001B[1;33m.\u001B[0m\u001B[0m_auth_info\u001B[0m\u001B[1;33m)\u001B[0m\u001B[1;33m\u001B[0m\u001B[1;33m\u001B[0m\u001B[0m\n\u001B[0m\u001B[0;32m     55\u001B[0m \u001B[1;33m\u001B[0m\u001B[0m\n\u001B[0;32m     56\u001B[0m     \u001B[1;32mdef\u001B[0m \u001B[0mset_timeout\u001B[0m\u001B[1;33m(\u001B[0m\u001B[0mself\u001B[0m\u001B[1;33m,\u001B[0m \u001B[0mtimeout\u001B[0m\u001B[1;33m)\u001B[0m\u001B[1;33m:\u001B[0m\u001B[1;33m\u001B[0m\u001B[1;33m\u001B[0m\u001B[0m\n",
      "\u001B[1;32mc:\\users\\millet\\miniconda3\\envs\\torch1.8-gpu\\lib\\site-packages\\rqdatac\\connection.py\u001B[0m in \u001B[0;36m_do_auth\u001B[1;34m(self, auth)\u001B[0m\n\u001B[0;32m     95\u001B[0m         )\n\u001B[0;32m     96\u001B[0m         \u001B[0mself\u001B[0m\u001B[1;33m.\u001B[0m\u001B[0m_socket\u001B[0m\u001B[1;33m.\u001B[0m\u001B[0msendall\u001B[0m\u001B[1;33m(\u001B[0m\u001B[0mauth_body\u001B[0m\u001B[1;33m)\u001B[0m\u001B[1;33m\u001B[0m\u001B[1;33m\u001B[0m\u001B[0m\n\u001B[1;32m---> 97\u001B[1;33m         \u001B[0mmsg_type\u001B[0m\u001B[1;33m,\u001B[0m \u001B[0mbody\u001B[0m \u001B[1;33m=\u001B[0m \u001B[0mself\u001B[0m\u001B[1;33m.\u001B[0m\u001B[0m_read_one_packet\u001B[0m\u001B[1;33m(\u001B[0m\u001B[1;33m)\u001B[0m\u001B[1;33m\u001B[0m\u001B[1;33m\u001B[0m\u001B[0m\n\u001B[0m\u001B[0;32m     98\u001B[0m         \u001B[1;32mif\u001B[0m \u001B[0mmsg_type\u001B[0m \u001B[1;33m!=\u001B[0m \u001B[0mMSG_TYPE\u001B[0m\u001B[1;33m.\u001B[0m\u001B[0mHANDSHAKE\u001B[0m\u001B[1;33m:\u001B[0m\u001B[1;33m\u001B[0m\u001B[1;33m\u001B[0m\u001B[0m\n\u001B[0;32m     99\u001B[0m             raise ProtocolError(\n",
      "\u001B[1;32mc:\\users\\millet\\miniconda3\\envs\\torch1.8-gpu\\lib\\site-packages\\rqdatac\\connection.py\u001B[0m in \u001B[0;36m_read_one_packet\u001B[1;34m(self)\u001B[0m\n\u001B[0;32m     85\u001B[0m             \u001B[1;32mif\u001B[0m \u001B[0mmt\u001B[0m \u001B[1;33m==\u001B[0m \u001B[0mMSG_TYPE\u001B[0m\u001B[1;33m.\u001B[0m\u001B[0mERROR\u001B[0m\u001B[1;33m:\u001B[0m\u001B[1;33m\u001B[0m\u001B[1;33m\u001B[0m\u001B[0m\n\u001B[0;32m     86\u001B[0m                 \u001B[0mcode\u001B[0m\u001B[1;33m,\u001B[0m \u001B[0mmsg\u001B[0m \u001B[1;33m=\u001B[0m \u001B[0mbody\u001B[0m\u001B[1;33m\u001B[0m\u001B[1;33m\u001B[0m\u001B[0m\n\u001B[1;32m---> 87\u001B[1;33m                 \u001B[1;32mraise\u001B[0m \u001B[0mget_error\u001B[0m\u001B[1;33m(\u001B[0m\u001B[0mcode\u001B[0m\u001B[1;33m)\u001B[0m\u001B[1;33m(\u001B[0m\u001B[0mmsg\u001B[0m\u001B[1;33m)\u001B[0m\u001B[1;33m\u001B[0m\u001B[1;33m\u001B[0m\u001B[0m\n\u001B[0m\u001B[0;32m     88\u001B[0m             \u001B[1;32mreturn\u001B[0m \u001B[0mmt\u001B[0m\u001B[1;33m,\u001B[0m \u001B[0mbody\u001B[0m\u001B[1;33m\u001B[0m\u001B[1;33m\u001B[0m\u001B[0m\n\u001B[0;32m     89\u001B[0m \u001B[1;33m\u001B[0m\u001B[0m\n",
      "\u001B[1;31mPermissionDenied\u001B[0m: this license is only allowed to access through the education network"
     ]
    }
   ],
   "source": [
    "from rqdatac import get_price\n",
    "import rqdatac\n",
    "\n",
    "rqdatac.init()\n",
    "hs300_df = get_price(order_book_ids='000300.XSHG', start_date='2022-01-01', end_date='2022-03-22', fields='close')"
   ],
   "metadata": {
    "collapsed": false,
    "pycharm": {
     "name": "#%%\n"
    }
   }
  },
  {
   "cell_type": "code",
   "execution_count": null,
   "outputs": [],
   "source": [
    "hs300 = hs300_df.reset_index(level='order_book_id').drop(labels='order_book_id', axis=1)\n",
    "hs300.rolling(5).mean().plot(grid=True)"
   ],
   "metadata": {
    "collapsed": false,
    "pycharm": {
     "name": "#%%\n"
    }
   }
  },
  {
   "cell_type": "markdown",
   "source": [
    "## 测试模型预测"
   ],
   "metadata": {
    "collapsed": false
   }
  },
  {
   "cell_type": "code",
   "execution_count": null,
   "outputs": [],
   "source": [
    "import torch\n",
    "from my_utils.model_class import MLP\n",
    "\n",
    "model = MLP(in_nums=22, out_nums=2, drop_p=0.5)\n",
    "model.load_state_dict(torch.load('models/model_c2_p[[0.0, 0.3], [0.7, 1.0]]_b32_lr0.001_d0.5_e500.pth', map_location=para.device))\n",
    "model = model.to(para.device)\n",
    "\n",
    "model.eval()\n",
    "a = model(torch.Tensor([[0.5]*22]*4).to(device=para.device))\n",
    "a"
   ],
   "metadata": {
    "collapsed": false,
    "pycharm": {
     "name": "#%%\n"
    }
   }
  }
 ],
 "metadata": {
  "kernelspec": {
   "display_name": "Python 3",
   "language": "python",
   "name": "python3"
  },
  "language_info": {
   "codemirror_mode": {
    "name": "ipython",
    "version": 2
   },
   "file_extension": ".py",
   "mimetype": "text/x-python",
   "name": "python",
   "nbconvert_exporter": "python",
   "pygments_lexer": "ipython2",
   "version": "2.7.6"
  }
 },
 "nbformat": 4,
 "nbformat_minor": 0
}