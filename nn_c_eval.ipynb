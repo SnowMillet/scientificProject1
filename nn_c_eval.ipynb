{
 "cells": [
  {
   "cell_type": "code",
   "execution_count": 33,
   "outputs": [
    {
     "name": "stdout",
     "output_type": "stream",
     "text": [
      "30\n"
     ]
    }
   ],
   "source": [
    "import torch\n",
    "import os\n",
    "\n",
    "class Para:\n",
    "    feature_column_start_name = 'ep_ratio_ttm'\n",
    "    feature_column_end_name = 'BR'\n",
    "\n",
    "    device = torch.device(\"cuda:0\" if torch.cuda.is_available() else \"cpu\")\n",
    "\n",
    "    data_path = 'data/cs_space_1d_rate_20d_2022_pre'\n",
    "    model_path = 'models/model_c2_y1_p[[0.0, 0.1], [0.9, 1.0]]_b32_lr0.001_d0.5_e500.pth'\n",
    "\n",
    "    classification_n = 2\n",
    "\n",
    "    month_num = len(os.listdir(data_path))\n",
    "\n",
    "para = Para()\n",
    "print(para.month_num)"
   ],
   "metadata": {
    "collapsed": false,
    "pycharm": {
     "name": "#%%\n"
    }
   }
  },
  {
   "cell_type": "code",
   "execution_count": 34,
   "outputs": [],
   "source": [
    "import numpy as np\n",
    "import torch\n",
    "from my_utils.model_class import MLP\n",
    "import pandas as pd\n",
    "\n",
    "def insert_predict(df: pd.DataFrame, model_path, out_nums: int, column_name: str) -> pd.DataFrame:\n",
    "\n",
    "    # 加载模型\n",
    "    model = MLP(in_nums=22, out_nums=out_nums, drop_p=0.5)\n",
    "    model.load_state_dict(torch.load(model_path, map_location=para.device))\n",
    "    model = model.to(para.device)\n",
    "\n",
    "    # 运算\n",
    "    model.eval()\n",
    "    predict_tensor = model(torch.Tensor(df.loc[:, para.feature_column_start_name: para.feature_column_end_name].values).to(device=para.device))\n",
    "\n",
    "    # 插入 predict_tensor 列\n",
    "    df.insert(loc=0, column='predict_tensor_'+column_name, value=np.nan)\n",
    "    # 插入 predict_return_bin 列\n",
    "    df.insert(loc=0, column='predict_return_bin_'+column_name, value=np.nan)\n",
    "\n",
    "    df['predict_tensor'+'_'+column_name] = predict_tensor.to(device='cpu').detach().numpy().tolist()\n",
    "    df['predict_return_bin'+'_'+column_name] = predict_tensor.to(device='cpu').detach().numpy().argmax(1)\n",
    "\n",
    "    return df"
   ],
   "metadata": {
    "collapsed": false,
    "pycharm": {
     "name": "#%%\n"
    }
   }
  },
  {
   "cell_type": "code",
   "execution_count": 35,
   "outputs": [
    {
     "name": "stdout",
     "output_type": "stream",
     "text": [
      "\n",
      "i_csv: 0\n",
      "use time: 0.0029942989349365234\n",
      "date: 2022-01-04\n",
      "tensor([0.7600, 0.0000])\n",
      "0    1529\n",
      "1     362\n",
      "Name: predict_return_bin, dtype: int64\n",
      "\n",
      "i_csv: 1\n",
      "use time: 3.6456496715545654\n",
      "date: 2022-01-05\n",
      "tensor([0.6500, 0.0000])\n",
      "0    1463\n",
      "1     375\n",
      "Name: predict_return_bin, dtype: int64\n",
      "\n",
      "i_csv: 2\n",
      "use time: 5.527101993560791\n",
      "date: 2022-01-06\n",
      "tensor([0.7200, 0.0000])\n",
      "0    1475\n",
      "1     343\n",
      "Name: predict_return_bin, dtype: int64\n",
      "\n",
      "i_csv: 3\n",
      "use time: 7.606829881668091\n",
      "date: 2022-01-07\n",
      "tensor([0.6100, 0.0000])\n",
      "0    1503\n",
      "1     337\n",
      "Name: predict_return_bin, dtype: int64\n",
      "\n",
      "i_csv: 4\n",
      "use time: 9.726357221603394\n",
      "date: 2022-01-10\n",
      "tensor([0.6500, 0.0000])\n",
      "0    1493\n",
      "1     363\n",
      "Name: predict_return_bin, dtype: int64\n",
      "\n",
      "i_csv: 5\n",
      "use time: 11.970667123794556\n",
      "date: 2022-01-11\n",
      "tensor([0.6800, 0.0000])\n",
      "0    1411\n",
      "1     384\n",
      "Name: predict_return_bin, dtype: int64\n",
      "\n",
      "i_csv: 6\n",
      "use time: 13.837813377380371\n",
      "date: 2022-01-12\n",
      "tensor([0.7000, 0.0000])\n",
      "0    1446\n",
      "1     374\n",
      "Name: predict_return_bin, dtype: int64\n",
      "\n",
      "i_csv: 7\n",
      "use time: 15.56878924369812\n",
      "date: 2022-01-13\n",
      "tensor([0.6300, 0.0000])\n",
      "0    1459\n",
      "1     405\n",
      "Name: predict_return_bin, dtype: int64\n",
      "\n",
      "i_csv: 8\n",
      "use time: 17.233593463897705\n",
      "date: 2022-01-14\n",
      "tensor([0.7500, 0.0000])\n",
      "0    1558\n",
      "1     350\n",
      "Name: predict_return_bin, dtype: int64\n",
      "\n",
      "i_csv: 9\n",
      "use time: 18.974372625350952\n",
      "date: 2022-01-17\n",
      "tensor([0.7900, 0.0000])\n",
      "0    1487\n",
      "1     409\n",
      "Name: predict_return_bin, dtype: int64\n",
      "\n",
      "i_csv: 10\n",
      "use time: 22.98190665245056\n",
      "date: 2022-01-18\n",
      "tensor([0.7700, 0.0000])\n",
      "0    1499\n",
      "1     416\n",
      "Name: predict_return_bin, dtype: int64\n",
      "\n",
      "i_csv: 11\n",
      "use time: 25.432737827301025\n",
      "date: 2022-01-19\n",
      "tensor([0.7400, 0.0000])\n",
      "0    1494\n",
      "1     414\n",
      "Name: predict_return_bin, dtype: int64\n",
      "\n",
      "i_csv: 12\n",
      "use time: 28.2308087348938\n",
      "date: 2022-01-20\n",
      "tensor([0.7500, 0.0000])\n",
      "0    1528\n",
      "1     361\n",
      "Name: predict_return_bin, dtype: int64\n",
      "\n",
      "i_csv: 13\n",
      "use time: 30.06450343132019\n",
      "date: 2022-01-21\n",
      "tensor([0.6500, 0.0000])\n",
      "0    1518\n",
      "1     393\n",
      "Name: predict_return_bin, dtype: int64\n",
      "\n",
      "i_csv: 14\n",
      "use time: 32.09400916099548\n",
      "date: 2022-01-24\n",
      "tensor([0.7000, 0.0000])\n",
      "0    1503\n",
      "1     417\n",
      "Name: predict_return_bin, dtype: int64\n",
      "\n",
      "i_csv: 15\n",
      "use time: 34.386125802993774\n",
      "date: 2022-01-25\n",
      "tensor([0.6700, 0.0000])\n",
      "0    1476\n",
      "1     401\n",
      "Name: predict_return_bin, dtype: int64\n",
      "\n",
      "i_csv: 16\n",
      "use time: 36.57862448692322\n",
      "date: 2022-01-26\n",
      "tensor([0.7000, 0.0000])\n",
      "0    1465\n",
      "1     438\n",
      "Name: predict_return_bin, dtype: int64\n",
      "\n",
      "i_csv: 17\n",
      "use time: 39.148958921432495\n",
      "date: 2022-01-27\n",
      "tensor([0.8200, 0.0000])\n",
      "0    1509\n",
      "1     408\n",
      "Name: predict_return_bin, dtype: int64\n",
      "\n",
      "i_csv: 18\n",
      "use time: 41.33475637435913\n",
      "date: 2022-01-28\n",
      "tensor([0.7100, 0.0000])\n",
      "0    1445\n",
      "1     441\n",
      "Name: predict_return_bin, dtype: int64\n",
      "\n",
      "i_csv: 19\n",
      "use time: 43.6413459777832\n",
      "date: 2022-02-07\n",
      "tensor([0.6800, 0.0000])\n",
      "0    1376\n",
      "1     471\n",
      "Name: predict_return_bin, dtype: int64\n",
      "\n",
      "i_csv: 20\n",
      "use time: 45.692524671554565\n",
      "date: 2022-02-08\n",
      "tensor([0.5500, 0.0000])\n",
      "0    1318\n",
      "1     488\n",
      "Name: predict_return_bin, dtype: int64\n",
      "\n",
      "i_csv: 21\n",
      "use time: 47.41474413871765\n",
      "date: 2022-02-09\n",
      "tensor([0.5100, 0.0000])\n",
      "0    1212\n",
      "1     482\n",
      "Name: predict_return_bin, dtype: int64\n",
      "\n",
      "i_csv: 22\n",
      "use time: 49.10530161857605\n",
      "date: 2022-02-10\n",
      "tensor([0.5100, 0.0000])\n",
      "0    1212\n",
      "1     507\n",
      "Name: predict_return_bin, dtype: int64\n",
      "\n",
      "i_csv: 23\n",
      "use time: 50.82173538208008\n",
      "date: 2022-02-11\n",
      "tensor([0.5600, 0.0000])\n",
      "0    1205\n",
      "1     509\n",
      "Name: predict_return_bin, dtype: int64\n",
      "\n",
      "i_csv: 24\n",
      "use time: 52.53236436843872\n",
      "date: 2022-02-14\n",
      "tensor([0.5300, 0.0000])\n",
      "0    1161\n",
      "1     515\n",
      "Name: predict_return_bin, dtype: int64\n",
      "\n",
      "i_csv: 25\n",
      "use time: 54.22062039375305\n",
      "date: 2022-02-15\n",
      "tensor([0.5300, 0.0000])\n",
      "0    1096\n",
      "1     562\n",
      "Name: predict_return_bin, dtype: int64\n",
      "\n",
      "i_csv: 26\n",
      "use time: 55.9536554813385\n",
      "date: 2022-02-16\n",
      "tensor([0.4300, 0.0000])\n",
      "0    989\n",
      "1    606\n",
      "Name: predict_return_bin, dtype: int64\n",
      "\n",
      "i_csv: 27\n",
      "use time: 57.63789772987366\n",
      "date: 2022-02-17\n",
      "tensor([0.4000, 0.0000])\n",
      "0    906\n",
      "1    649\n",
      "Name: predict_return_bin, dtype: int64\n",
      "\n",
      "i_csv: 28\n",
      "use time: 59.36532807350159\n",
      "date: 2022-02-18\n",
      "tensor([0.3900, 0.0000])\n",
      "0    888\n",
      "1    688\n",
      "Name: predict_return_bin, dtype: int64\n",
      "\n",
      "i_csv: 29\n",
      "use time: 61.0489296913147\n",
      "date: 2022-02-21\n",
      "tensor([0.3600, 0.0000])\n",
      "0    906\n",
      "1    694\n",
      "Name: predict_return_bin, dtype: int64\n"
     ]
    }
   ],
   "source": [
    "import torchmetrics\n",
    "import time\n",
    "import matplotlib.pyplot as plt\n",
    "import torch.nn.functional as F\n",
    "\n",
    "precision = torchmetrics.Precision(average='none', num_classes=para.classification_n)\n",
    "time_begin = time.time()\n",
    "\n",
    "plot_df = pd.DataFrame()\n",
    "\n",
    "# for i_csv in range(48, 59+1):\n",
    "# for i_csv in range(0, 2):\n",
    "for i_csv in range(para.month_num):\n",
    "    print()\n",
    "    print('i_csv: {}'.format(i_csv))\n",
    "    print('use time: {}'.format(time.time() - time_begin))\n",
    "\n",
    "    df = pd.read_csv(para.data_path +'/' + str(i_csv) + '.csv', index_col='order_book_id')\n",
    "\n",
    "    # 插入预测数据\n",
    "    df = insert_predict(df=df, model_path=para.model_path, out_nums=para.classification_n, column_name='2c')\n",
    "\n",
    "    # 综合多个预测数据\n",
    "    df.insert(loc=0, column='predict_return_bin', value=np.nan)\n",
    "    df.loc[df['predict_return_bin_2c'].isin([0,]), 'predict_return_bin'] = 0\n",
    "    df['predict_return_bin'].replace(to_replace=np.nan, value=1, inplace=True)\n",
    "    df['predict_return_bin'] = df['predict_return_bin'].astype('int64')\n",
    "\n",
    "    df.insert(loc=0, column='probability', value=np.nan)\n",
    "    for stock_id in df.index:\n",
    "        df.loc[stock_id, 'probability'] = F.softmax(torch.tensor(df.loc[stock_id, 'predict_tensor_2c']), dim=0).numpy()[0]\n",
    "        # df.loc[stock_id, 'probability'] = torch.tensor(df.loc[stock_id, 'predict_tensor_2c']).numpy()[0]\n",
    "\n",
    "    # 插入实际 return_bin 列\n",
    "    df.insert(loc=0, column='return_bin', value=np.nan)\n",
    "    df.loc[df['yield_rate'] > 0.0, 'return_bin'] = 0\n",
    "    df['return_bin'].replace(to_replace=np.nan, value=1, inplace=True)\n",
    "    df['return_bin'] = df['return_bin'].astype('int64')\n",
    "\n",
    "    # # 计算精确率\n",
    "    df = df.sort_values(by='probability', ascending=False)\n",
    "\n",
    "    pred = torch.tensor(df['predict_return_bin'][0:100]).type(torch.LongTensor)\n",
    "    target = torch.tensor(df['return_bin'][0:100]).type(torch.LongTensor)\n",
    "    print('date: {}' .format(df['date'][0]))\n",
    "    print(precision(preds=pred, target=target))\n",
    "\n",
    "    print(df.loc[df['yield_rate']>0.0, 'predict_return_bin'].value_counts())\n",
    "\n",
    "    plot_df = pd.concat([plot_df, pd.DataFrame(data=[[df['date'][0] ,precision(preds=pred, target=target).detach().numpy()[0]]], columns=['date', 'precision'])])"
   ],
   "metadata": {
    "collapsed": false,
    "pycharm": {
     "name": "#%%\n"
    }
   }
  },
  {
   "cell_type": "code",
   "execution_count": 36,
   "outputs": [
    {
     "name": "stdout",
     "output_type": "stream",
     "text": [
      "\n",
      "average precision: tensor([0.6300, 0.0000])\n"
     ]
    }
   ],
   "source": [
    "print()\n",
    "print('average precision: {}' .format(precision.compute()))\n",
    "precision.reset()"
   ],
   "metadata": {
    "collapsed": false,
    "pycharm": {
     "name": "#%%\n"
    }
   }
  },
  {
   "cell_type": "code",
   "execution_count": 37,
   "outputs": [
    {
     "data": {
      "text/plain": "            precision\ndate                 \n2022-01-04       0.76\n2022-01-05       0.65\n2022-01-06       0.72\n2022-01-07       0.61\n2022-01-10       0.65\n2022-01-11       0.68\n2022-01-12       0.70\n2022-01-13       0.63\n2022-01-14       0.75\n2022-01-17       0.79\n2022-01-18       0.77\n2022-01-19       0.74\n2022-01-20       0.75\n2022-01-21       0.65\n2022-01-24       0.70\n2022-01-25       0.67\n2022-01-26       0.70\n2022-01-27       0.82\n2022-01-28       0.71\n2022-02-07       0.68\n2022-02-08       0.55\n2022-02-09       0.51\n2022-02-10       0.51\n2022-02-11       0.56\n2022-02-14       0.53\n2022-02-15       0.53\n2022-02-16       0.43\n2022-02-17       0.40\n2022-02-18       0.39\n2022-02-21       0.36",
      "text/html": "<div>\n<style scoped>\n    .dataframe tbody tr th:only-of-type {\n        vertical-align: middle;\n    }\n\n    .dataframe tbody tr th {\n        vertical-align: top;\n    }\n\n    .dataframe thead th {\n        text-align: right;\n    }\n</style>\n<table border=\"1\" class=\"dataframe\">\n  <thead>\n    <tr style=\"text-align: right;\">\n      <th></th>\n      <th>precision</th>\n    </tr>\n    <tr>\n      <th>date</th>\n      <th></th>\n    </tr>\n  </thead>\n  <tbody>\n    <tr>\n      <th>2022-01-04</th>\n      <td>0.76</td>\n    </tr>\n    <tr>\n      <th>2022-01-05</th>\n      <td>0.65</td>\n    </tr>\n    <tr>\n      <th>2022-01-06</th>\n      <td>0.72</td>\n    </tr>\n    <tr>\n      <th>2022-01-07</th>\n      <td>0.61</td>\n    </tr>\n    <tr>\n      <th>2022-01-10</th>\n      <td>0.65</td>\n    </tr>\n    <tr>\n      <th>2022-01-11</th>\n      <td>0.68</td>\n    </tr>\n    <tr>\n      <th>2022-01-12</th>\n      <td>0.70</td>\n    </tr>\n    <tr>\n      <th>2022-01-13</th>\n      <td>0.63</td>\n    </tr>\n    <tr>\n      <th>2022-01-14</th>\n      <td>0.75</td>\n    </tr>\n    <tr>\n      <th>2022-01-17</th>\n      <td>0.79</td>\n    </tr>\n    <tr>\n      <th>2022-01-18</th>\n      <td>0.77</td>\n    </tr>\n    <tr>\n      <th>2022-01-19</th>\n      <td>0.74</td>\n    </tr>\n    <tr>\n      <th>2022-01-20</th>\n      <td>0.75</td>\n    </tr>\n    <tr>\n      <th>2022-01-21</th>\n      <td>0.65</td>\n    </tr>\n    <tr>\n      <th>2022-01-24</th>\n      <td>0.70</td>\n    </tr>\n    <tr>\n      <th>2022-01-25</th>\n      <td>0.67</td>\n    </tr>\n    <tr>\n      <th>2022-01-26</th>\n      <td>0.70</td>\n    </tr>\n    <tr>\n      <th>2022-01-27</th>\n      <td>0.82</td>\n    </tr>\n    <tr>\n      <th>2022-01-28</th>\n      <td>0.71</td>\n    </tr>\n    <tr>\n      <th>2022-02-07</th>\n      <td>0.68</td>\n    </tr>\n    <tr>\n      <th>2022-02-08</th>\n      <td>0.55</td>\n    </tr>\n    <tr>\n      <th>2022-02-09</th>\n      <td>0.51</td>\n    </tr>\n    <tr>\n      <th>2022-02-10</th>\n      <td>0.51</td>\n    </tr>\n    <tr>\n      <th>2022-02-11</th>\n      <td>0.56</td>\n    </tr>\n    <tr>\n      <th>2022-02-14</th>\n      <td>0.53</td>\n    </tr>\n    <tr>\n      <th>2022-02-15</th>\n      <td>0.53</td>\n    </tr>\n    <tr>\n      <th>2022-02-16</th>\n      <td>0.43</td>\n    </tr>\n    <tr>\n      <th>2022-02-17</th>\n      <td>0.40</td>\n    </tr>\n    <tr>\n      <th>2022-02-18</th>\n      <td>0.39</td>\n    </tr>\n    <tr>\n      <th>2022-02-21</th>\n      <td>0.36</td>\n    </tr>\n  </tbody>\n</table>\n</div>"
     },
     "execution_count": 37,
     "metadata": {},
     "output_type": "execute_result"
    }
   ],
   "source": [
    "plot_df['date'] = pd.to_datetime(plot_df['date'])\n",
    "plot_df.set_index('date', inplace=True)\n",
    "plot_df"
   ],
   "metadata": {
    "collapsed": false,
    "pycharm": {
     "name": "#%%\n"
    }
   }
  },
  {
   "cell_type": "code",
   "execution_count": 38,
   "outputs": [
    {
     "data": {
      "text/plain": "<AxesSubplot:xlabel='date'>"
     },
     "execution_count": 38,
     "metadata": {},
     "output_type": "execute_result"
    },
    {
     "data": {
      "text/plain": "<Figure size 432x288 with 1 Axes>",
      "image/png": "[encoded data removed]"
     },
     "metadata": {
      "needs_background": "light"
     },
     "output_type": "display_data"
    }
   ],
   "source": [
    "plot_df.rolling(5).mean().plot(grid=True)"
   ],
   "metadata": {
    "collapsed": false,
    "pycharm": {
     "name": "#%%\n"
    }
   }
  },
  {
   "cell_type": "markdown",
   "source": [
    "## 测试模型预测"
   ],
   "metadata": {
    "collapsed": false
   }
  },
  {
   "cell_type": "code",
   "execution_count": 39,
   "outputs": [
    {
     "data": {
      "text/plain": "tensor([[-0.1420, -0.2949],\n        [-0.1420, -0.2949],\n        [-0.1420, -0.2949],\n        [-0.1420, -0.2949]], device='cuda:0', grad_fn=<AddmmBackward>)"
     },
     "execution_count": 39,
     "metadata": {},
     "output_type": "execute_result"
    }
   ],
   "source": [
    "import torch\n",
    "from my_utils.model_class import MLP\n",
    "\n",
    "model = MLP(in_nums=22, out_nums=2, drop_p=0.5)\n",
    "model.load_state_dict(torch.load('models/model_c2_p[[0.0, 0.3], [0.7, 1.0]]_b32_lr0.001_d0.5_e500.pth', map_location=para.device))\n",
    "model = model.to(para.device)\n",
    "\n",
    "model.eval()\n",
    "a = model(torch.Tensor([[0.5]*22]*4).to(device=para.device))\n",
    "a"
   ],
   "metadata": {
    "collapsed": false,
    "pycharm": {
     "name": "#%%\n"
    }
   }
  }
 ],
 "metadata": {
  "kernelspec": {
   "display_name": "Python 3",
   "language": "python",
   "name": "python3"
  },
  "language_info": {
   "codemirror_mode": {
    "name": "ipython",
    "version": 2
   },
   "file_extension": ".py",
   "mimetype": "text/x-python",
   "name": "python",
   "nbconvert_exporter": "python",
   "pygments_lexer": "ipython2",
   "version": "2.7.6"
  }
 },
 "nbformat": 4,
 "nbformat_minor": 0
}